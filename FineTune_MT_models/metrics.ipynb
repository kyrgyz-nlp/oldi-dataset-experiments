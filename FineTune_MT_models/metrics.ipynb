{
  "nbformat": 4,
  "nbformat_minor": 0,
  "metadata": {
    "colab": {
      "provenance": []
    },
    "kernelspec": {
      "name": "python3",
      "display_name": "Python 3"
    },
    "language_info": {
      "name": "python"
    }
  },
  "cells": [
    {
      "cell_type": "code",
      "source": [
        "import os\n",
        "import json"
      ],
      "metadata": {
        "id": "54oapPNJARom"
      },
      "execution_count": 3,
      "outputs": []
    },
    {
      "cell_type": "code",
      "source": [
        "!pip install sacrebleu"
      ],
      "metadata": {
        "colab": {
          "base_uri": "https://localhost:8080/"
        },
        "id": "Md9xqk6jAPeC",
        "outputId": "061f76b2-a838-402c-e44b-52c4196a2f3d"
      },
      "execution_count": 1,
      "outputs": [
        {
          "output_type": "stream",
          "name": "stdout",
          "text": [
            "Collecting sacrebleu\n",
            "  Downloading sacrebleu-2.5.1-py3-none-any.whl.metadata (51 kB)\n",
            "\u001b[?25l     \u001b[90m━━━━━━━━━━━━━━━━━━━━━━━━━━━━━━━━━━━━━━━━\u001b[0m \u001b[32m0.0/51.8 kB\u001b[0m \u001b[31m?\u001b[0m eta \u001b[36m-:--:--\u001b[0m\r\u001b[2K     \u001b[90m━━━━━━━━━━━━━━━━━━━━━━━━━━━━━━━━━━━━━━━━\u001b[0m \u001b[32m51.8/51.8 kB\u001b[0m \u001b[31m2.1 MB/s\u001b[0m eta \u001b[36m0:00:00\u001b[0m\n",
            "\u001b[?25hCollecting portalocker (from sacrebleu)\n",
            "  Downloading portalocker-3.2.0-py3-none-any.whl.metadata (8.7 kB)\n",
            "Requirement already satisfied: regex in /usr/local/lib/python3.12/dist-packages (from sacrebleu) (2024.11.6)\n",
            "Requirement already satisfied: tabulate>=0.8.9 in /usr/local/lib/python3.12/dist-packages (from sacrebleu) (0.9.0)\n",
            "Requirement already satisfied: numpy>=1.17 in /usr/local/lib/python3.12/dist-packages (from sacrebleu) (2.0.2)\n",
            "Collecting colorama (from sacrebleu)\n",
            "  Downloading colorama-0.4.6-py2.py3-none-any.whl.metadata (17 kB)\n",
            "Requirement already satisfied: lxml in /usr/local/lib/python3.12/dist-packages (from sacrebleu) (5.4.0)\n",
            "Downloading sacrebleu-2.5.1-py3-none-any.whl (104 kB)\n",
            "\u001b[2K   \u001b[90m━━━━━━━━━━━━━━━━━━━━━━━━━━━━━━━━━━━━━━━━\u001b[0m \u001b[32m104.1/104.1 kB\u001b[0m \u001b[31m4.6 MB/s\u001b[0m eta \u001b[36m0:00:00\u001b[0m\n",
            "\u001b[?25hDownloading colorama-0.4.6-py2.py3-none-any.whl (25 kB)\n",
            "Downloading portalocker-3.2.0-py3-none-any.whl (22 kB)\n",
            "Installing collected packages: portalocker, colorama, sacrebleu\n",
            "Successfully installed colorama-0.4.6 portalocker-3.2.0 sacrebleu-2.5.1\n"
          ]
        }
      ]
    },
    {
      "cell_type": "code",
      "source": [
        "# We use the same metric parameters for chrF as in the XWMT baseline.\n",
        "# Below is a copy of the code with the parameters from their paper (see github):\n",
        "# https://github.com/turkic-interlingua/til-mt/blob/master/replicate_results/corpus_paper/reproduce_baseline.ipynb\n",
        "\n",
        "# testing:\n",
        "#     beam_size: 5\n",
        "#     alpha: 1.0\n",
        "#     sacrebleu:                      # sacrebleu options\n",
        "#         remove_whitespace: True     # `remove_whitespace` option in sacrebleu.corpus_chrf() function (defalut: True)\n",
        "#         tokenize: \"none\"            # `tokenize` option in sacrebleu.corpus_bleu() function (options include: \"none\" (use for already tokenized test data), \"13a\" (default minimal tokenizer), \"intl\" which mostly does punctuation and unicode, etc)\n"
      ],
      "metadata": {
        "id": "U0jdfXCJANl0"
      },
      "execution_count": null,
      "outputs": []
    },
    {
      "cell_type": "code",
      "source": [
        "from sacrebleu.metrics import CHRF\n",
        "\n",
        "chrf = CHRF(\n",
        "    char_order=6,\n",
        "    word_order=0,\n",
        "    beta=2,\n",
        "    lowercase=False,\n",
        "    whitespace=False\n",
        ")\n",
        "\n",
        "chrfplus = CHRF(\n",
        "    char_order=6,\n",
        "    word_order=2,\n",
        "    beta=2,\n",
        "    lowercase=False,\n",
        "    whitespace=False\n",
        ")"
      ],
      "metadata": {
        "id": "S1jyrO6WBYZ8"
      },
      "execution_count": 2,
      "outputs": []
    },
    {
      "cell_type": "code",
      "source": [
        "for filename in os.listdir('/content/finetuned output'):\n",
        "  with open('/content/finetuned output/' + filename, encoding=\"utf-8\") as f:\n",
        "    data = json.load(f)\n",
        "  all_preds = data[\"preds\"]\n",
        "  all_refs = data[\"refs\"]\n",
        "\n",
        "  print(filename.replace)\n",
        "  print(chrf.corpus_score(all_preds, [all_refs]))\n",
        "  print(chrfplus.corpus_score(all_preds, [all_refs]))\n",
        "  print()"
      ],
      "metadata": {
        "colab": {
          "base_uri": "https://localhost:8080/"
        },
        "id": "zpSH9w-qlz2K",
        "outputId": "7bca3906-c17a-4e5c-ef3d-d9215becda7b"
      },
      "execution_count": 6,
      "outputs": [
        {
          "output_type": "stream",
          "name": "stdout",
          "text": [
            "trained_mT5ky-en-XWMT.json\n",
            "chrF2 = 34.69\n",
            "chrF2++ = 31.86\n",
            "\n",
            "trained_NLLBen-ky-fleures.json\n",
            "chrF2 = 49.37\n",
            "chrF2++ = 44.62\n",
            "\n",
            "trained_mT5ky-en-fleures.json\n",
            "chrF2 = 36.82\n",
            "chrF2++ = 34.22\n",
            "\n",
            "trained_M2M100ky-en-fleures.json\n",
            "chrF2 = 38.77\n",
            "chrF2++ = 36.19\n",
            "\n",
            "trained_M2M100ky-en-XWMT.json\n",
            "chrF2 = 36.10\n",
            "chrF2++ = 33.38\n",
            "\n",
            "trained_M2M100en-ky-XWMT.json\n",
            "chrF2 = 36.41\n",
            "chrF2++ = 30.53\n",
            "\n",
            "trained_NLLBky-en-XWMT.json\n",
            "chrF2 = 47.84\n",
            "chrF2++ = 45.16\n",
            "\n",
            "trained_mT5en-ky-fleures.json\n",
            "chrF2 = 30.57\n",
            "chrF2++ = 26.53\n",
            "\n",
            "trained_M2M100en-ky-fleures.json\n",
            "chrF2 = 40.77\n",
            "chrF2++ = 33.91\n",
            "\n",
            "trained_mT5en-ky-XWMT.json\n",
            "chrF2 = 28.32\n",
            "chrF2++ = 24.57\n",
            "\n",
            "trained_NLLBky-en-fleures.json\n",
            "chrF2 = 51.77\n",
            "chrF2++ = 49.34\n",
            "\n",
            "trained_NLLBen-ky-XWMT.json\n",
            "chrF2 = 47.61\n",
            "chrF2++ = 43.01\n",
            "\n"
          ]
        }
      ]
    },
    {
      "cell_type": "code",
      "source": [
        "for filename in os.listdir('/content/baselines'):\n",
        "  with open('/content/baselines/' + filename, encoding=\"utf-8\") as f:\n",
        "    data = json.load(f)\n",
        "  all_preds = data[\"preds\"]\n",
        "  all_refs = data[\"refs\"]\n",
        "\n",
        "  print(filename)\n",
        "  print(chrf.corpus_score(all_preds, [all_refs]))\n",
        "  print(chrfplus.corpus_score(all_preds, [all_refs]))\n",
        "  print()"
      ],
      "metadata": {
        "colab": {
          "base_uri": "https://localhost:8080/"
        },
        "id": "CbiVL0oxmLiP",
        "outputId": "ff147ccc-065f-4de4-8dd2-f2b16cbf1d3e"
      },
      "execution_count": 8,
      "outputs": [
        {
          "output_type": "stream",
          "name": "stdout",
          "text": [
            "NLLBky-en-XWMT.json\n",
            "chrF2 = 46.93\n",
            "chrF2++ = 44.38\n",
            "\n",
            "mT5ky-en-fleures.json\n",
            "chrF2 = 1.84\n",
            "chrF2++ = 1.81\n",
            "\n",
            "NLLBky-en-fleures.json\n",
            "chrF2 = 49.85\n",
            "chrF2++ = 47.48\n",
            "\n",
            "mT5en-ky-XWMT.json\n",
            "chrF2 = 0.53\n",
            "chrF2++ = 1.02\n",
            "\n",
            "mT5en-ky-fleures.json\n",
            "chrF2 = 0.20\n",
            "chrF2++ = 0.63\n",
            "\n",
            "M2M100en-ky-fleures.json\n",
            "chrF2 = 10.88\n",
            "chrF2++ = 9.10\n",
            "\n",
            "M2M100ky-en-fleures.json\n",
            "chrF2 = 13.29\n",
            "chrF2++ = 10.58\n",
            "\n",
            "NLLBen-ky-XWMT.json\n",
            "chrF2 = 45.03\n",
            "chrF2++ = 40.75\n",
            "\n",
            "M2M100en-ky-XWMT.json\n",
            "chrF2 = 10.29\n",
            "chrF2++ = 8.54\n",
            "\n",
            "NLLBen-ky-fleures.json\n",
            "chrF2 = 44.56\n",
            "chrF2++ = 40.21\n",
            "\n",
            "mT5ky-en-XWMT.json\n",
            "chrF2 = 2.37\n",
            "chrF2++ = 2.25\n",
            "\n",
            "M2M100ky-en-XWMT.json\n",
            "chrF2 = 13.89\n",
            "chrF2++ = 11.49\n",
            "\n"
          ]
        }
      ]
    },
    {
      "cell_type": "code",
      "source": [],
      "metadata": {
        "id": "NGYNu3ASdVyl"
      },
      "execution_count": null,
      "outputs": []
    }
  ]
}